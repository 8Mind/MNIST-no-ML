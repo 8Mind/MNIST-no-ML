{
  "nbformat": 4,
  "nbformat_minor": 0,
  "metadata": {
    "colab": {
      "provenance": [],
      "authorship_tag": "ABX9TyODVVvtJ2t67LPbkcHBDLeQ",
      "include_colab_link": true
    },
    "kernelspec": {
      "name": "python3",
      "display_name": "Python 3"
    },
    "language_info": {
      "name": "python"
    }
  },
  "cells": [
    {
      "cell_type": "markdown",
      "metadata": {
        "id": "view-in-github",
        "colab_type": "text"
      },
      "source": [
        "<a href=\"https://colab.research.google.com/github/8Mind/simple-MNIST/blob/main/simple_MNIST.ipynb\" target=\"_parent\"><img src=\"https://colab.research.google.com/assets/colab-badge.svg\" alt=\"Open In Colab\"/></a>"
      ]
    },
    {
      "cell_type": "code",
      "source": [
        "### Timer\n",
        "\n",
        "import time\n",
        "start_time = time.time()\n",
        "print(\"Notebook execution started...\")"
      ],
      "metadata": {
        "id": "WzcP7UkdoAyY",
        "colab": {
          "base_uri": "https://localhost:8080/"
        },
        "outputId": "34ba0a97-c684-4fbe-aebc-f86326d925e6"
      },
      "execution_count": 1,
      "outputs": [
        {
          "output_type": "stream",
          "name": "stdout",
          "text": [
            "Notebook execution started...\n"
          ]
        }
      ]
    },
    {
      "cell_type": "code",
      "execution_count": 2,
      "metadata": {
        "id": "W29A_UnZLbzU"
      },
      "outputs": [],
      "source": [
        "### Imports\n",
        "\n",
        "import torch\n",
        "import torchvision\n",
        "import torchvision.transforms as transforms\n",
        "import matplotlib.pyplot as plt"
      ]
    },
    {
      "cell_type": "code",
      "source": [
        "### Use GPU if available\n",
        "\n",
        "device = 'cuda' if torch.cuda.is_available() else 'cpu'\n",
        "print(f'Using {device} device.')"
      ],
      "metadata": {
        "id": "C5ROphe8M0Wg",
        "colab": {
          "base_uri": "https://localhost:8080/"
        },
        "outputId": "2bc8883c-a38c-4212-d736-aa65df37d2a4"
      },
      "execution_count": 3,
      "outputs": [
        {
          "output_type": "stream",
          "name": "stdout",
          "text": [
            "Using cuda device.\n"
          ]
        }
      ]
    },
    {
      "cell_type": "code",
      "source": [
        "### Define a transformation to convert the images to tensors\n",
        "\n",
        "transform = transforms.ToTensor()"
      ],
      "metadata": {
        "id": "bl2fTBUbLwLO"
      },
      "execution_count": 4,
      "outputs": []
    },
    {
      "cell_type": "code",
      "source": [
        "### Download and load training data\n",
        "\n",
        "train_dataset = torchvision.datasets.MNIST(root='./data',\n",
        "                                           train=True,\n",
        "                                           download=True,\n",
        "                                           transform=transform)\n",
        "### Download and load test data\n",
        "\n",
        "test_dataset = torchvision.datasets.MNIST(root='./data',\n",
        "                                          train=False,\n",
        "                                          download=True,\n",
        "                                          transform=transform)"
      ],
      "metadata": {
        "id": "WyBJxo9qL6U-",
        "colab": {
          "base_uri": "https://localhost:8080/"
        },
        "outputId": "fce02afd-337e-47e0-b267-b36e3bf47f73"
      },
      "execution_count": 5,
      "outputs": [
        {
          "output_type": "stream",
          "name": "stderr",
          "text": [
            "100%|██████████| 9.91M/9.91M [00:00<00:00, 16.2MB/s]\n",
            "100%|██████████| 28.9k/28.9k [00:00<00:00, 477kB/s]\n",
            "100%|██████████| 1.65M/1.65M [00:00<00:00, 4.43MB/s]\n",
            "100%|██████████| 4.54k/4.54k [00:00<00:00, 9.89MB/s]\n"
          ]
        }
      ]
    },
    {
      "cell_type": "code",
      "source": [
        "### Extract images and labels, convert their dtypes, and put them on device\n",
        "\n",
        "X_train = train_dataset.data.float().to(device)\n",
        "y_train = train_dataset.targets.to(device)\n",
        "X_test = test_dataset.data.float().to(device)\n",
        "y_test = test_dataset.targets.to(device)"
      ],
      "metadata": {
        "id": "hppepFELNqiy"
      },
      "execution_count": 6,
      "outputs": []
    },
    {
      "cell_type": "code",
      "source": [
        "### Check shapes\n",
        "\n",
        "print(f\"X_train shape: {X_train.shape}, y_train shape: {y_train.shape}\")\n",
        "print(f\"X_test shape: {X_test.shape}, y_test shape: {y_test.shape}\")\n",
        "print(\"\\nSo there are 60,000 train images and 10,000 test images, each of shape (28,28).\")"
      ],
      "metadata": {
        "id": "BR1Ujy6rPFAZ",
        "colab": {
          "base_uri": "https://localhost:8080/"
        },
        "outputId": "094d6cfe-524a-48e9-c991-877ce5465aea"
      },
      "execution_count": 7,
      "outputs": [
        {
          "output_type": "stream",
          "name": "stdout",
          "text": [
            "X_train shape: torch.Size([60000, 28, 28]), y_train shape: torch.Size([60000])\n",
            "X_test shape: torch.Size([10000, 28, 28]), y_test shape: torch.Size([10000])\n",
            "\n",
            "So there are 60,000 train images and 10,000 test images, each of shape (28,28).\n"
          ]
        }
      ]
    },
    {
      "cell_type": "code",
      "source": [
        "### Plot a few MNIST images\n",
        "\n",
        "plt.figure(figsize=(10, 10))\n",
        "for i in range(4):\n",
        "    plt.subplot(1, 4, i+1)\n",
        "    plt.imshow(X_train.cpu()[i], cmap='gray')\n",
        "    plt.title(f'Label: {y_train.cpu()[i]}')"
      ],
      "metadata": {
        "id": "8b3TEn_2P2M5",
        "colab": {
          "base_uri": "https://localhost:8080/",
          "height": 251
        },
        "outputId": "54c294d9-15b1-4285-9eb3-de0f36beac7f"
      },
      "execution_count": 8,
      "outputs": [
        {
          "output_type": "display_data",
          "data": {
            "text/plain": [
              "<Figure size 1000x1000 with 4 Axes>"
            ],
            "image/png": "[encoded data removed]"
          },
          "metadata": {}
        }
      ]
    },
    {
      "cell_type": "code",
      "source": [
        "### Write a function which, given some image, returns the index of the training\n",
        "### image that is \"closest\" to it (with respect to the Euclidean-distance).\n",
        "\n",
        "def closest_train_image(img: torch.Tensor()):\n",
        "  # the expected shape of `img` is (28,28):\n",
        "  assert img.shape == (28,28)\n",
        "  # compute the difference between the input image and all train images\n",
        "  diff = img - X_train # broadcasts over the zeroth index so the shape of `diff`\n",
        "                       # is (60000,28,28)\n",
        "  # calculate the Euclidean distances\n",
        "  dists = torch.linalg.norm(diff, dim=(1, 2)) # computes the Euclidean norm of\n",
        "                                              # `diff` over the (28,28) shape\n",
        "  # return the index responsible for the smallest distance\n",
        "  # (i.e. the index of the closest image)\n",
        "  return torch.argmin(dists)"
      ],
      "metadata": {
        "id": "qspy70FsRDHS"
      },
      "execution_count": 9,
      "outputs": []
    },
    {
      "cell_type": "code",
      "source": [
        "### Make predictions for X_test using the label of the closest train image\n",
        "\n",
        "# for each image in X_test find the index of train image that is most similar to it\n",
        "idx = [closest_train_image(img) for img in X_test]\n",
        "\n",
        "# use the label of this \"most similar image\" as the prediction\n",
        "y_preds = torch.tensor([y_train[i] for i in idx], device=device)"
      ],
      "metadata": {
        "id": "5alb9B2TUQAE"
      },
      "execution_count": 10,
      "outputs": []
    },
    {
      "cell_type": "code",
      "source": [
        "### Compute the accuracy of prediction\n",
        "\n",
        "acc = (y_preds==y_test).sum()/len(y_preds)\n",
        "print(f'The accuracy of prediction is {(acc * 100):.2f}%.')"
      ],
      "metadata": {
        "id": "umdGVs-_VMsR",
        "collapsed": true,
        "colab": {
          "base_uri": "https://localhost:8080/"
        },
        "outputId": "cc5d1abf-5db8-4830-edd1-ba08bb974ec0"
      },
      "execution_count": 11,
      "outputs": [
        {
          "output_type": "stream",
          "name": "stdout",
          "text": [
            "The accuracy of prediction is 96.91%.\n"
          ]
        }
      ]
    },
    {
      "cell_type": "code",
      "source": [
        "### How long does it take?\n",
        "\n",
        "end_time = time.time()\n",
        "duration = end_time - start_time\n",
        "print(f\"Notebook execution finished in {duration:.2f} seconds.\")"
      ],
      "metadata": {
        "id": "Ke_9XcJToGoD",
        "colab": {
          "base_uri": "https://localhost:8080/"
        },
        "outputId": "1ebad966-c229-4d8f-cccf-d49b2978fd97"
      },
      "execution_count": 12,
      "outputs": [
        {
          "output_type": "stream",
          "name": "stdout",
          "text": [
            "Notebook execution finished in 42.03 seconds.\n"
          ]
        }
      ]
    }
  ]
}